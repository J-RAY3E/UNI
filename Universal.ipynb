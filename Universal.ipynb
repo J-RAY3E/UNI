{
 "cells": [
  {
   "cell_type": "code",
   "execution_count": 4,
   "metadata": {},
   "outputs": [
    {
     "name": "stdout",
     "output_type": "stream",
     "text": [
      "Матрица квадратичной формы в новом базисе:\n",
      "[[  -29929    74563  -125079  -370912]\n",
      " [   74563  -185761   311613   924064]\n",
      " [ -125079   311613  -522729 -1550112]\n",
      " [ -370912   924064 -1550112 -4596736]]\n"
     ]
    }
   ],
   "source": [
    "import numpy as np\n",
    "\n",
    "# Исходная матрица квадратичной формы\n",
    "A = np.array([\n",
    "    [-1, 2, 2, -1],\n",
    "    [2, -4, -4, 2],\n",
    "    [2, -4, -4, 2],\n",
    "    [-1, 2, 2, -1]\n",
    "])\n",
    "\n",
    "# Матрица преобразования\n",
    "B = np.array([\n",
    "    [-38, 95, -159, -472],\n",
    "    [39, -97, 163, 483],\n",
    "    [36, -90, 151, 448],\n",
    "    [15, -38, 64, 190]\n",
    "])\n",
    "\n",
    "# Находим мат рицу квадратичной формы в новом базисе\n",
    "tilde_A = B.T @ A @ B\n",
    "\n",
    "# Выводим результат\n",
    "print(\"Матрица квадратичной формы в новом базисе:\")\n",
    "print(tilde_A)"
   ]
  },
  {
   "cell_type": "code",
   "execution_count": null,
   "metadata": {},
   "outputs": [],
   "source": [
    "    "
   ]
  }
 ],
 "metadata": {
  "kernelspec": {
   "display_name": "Python 3",
   "language": "python",
   "name": "python3"
  },
  "language_info": {
   "codemirror_mode": {
    "name": "ipython",
    "version": 3
   },
   "file_extension": ".py",
   "mimetype": "text/x-python",
   "name": "python",
   "nbconvert_exporter": "python",
   "pygments_lexer": "ipython3",
   "version": "3.13.1"
  }
 },
 "nbformat": 4,
 "nbformat_minor": 2
}
